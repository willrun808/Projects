{
 "cells": [
  {
   "cell_type": "markdown",
   "id": "f47b18ce",
   "metadata": {},
   "source": [
    "# Exploring Covid-19 Data\n",
    "\n",
    "##### William Ho"
   ]
  },
  {
   "cell_type": "markdown",
   "id": "e07082aa",
   "metadata": {},
   "source": [
    "In this project I'll take a look at the COVID-19 Dataset on Kaggle, available at this link:\n",
    "[COVID-19 Dataset](https://www.kaggle.com/datasets/imdevskp/corona-virus-report)"
   ]
  },
  {
   "cell_type": "markdown",
   "id": "d867c7d7",
   "metadata": {},
   "source": [
    "### Import the data\n",
    "\n",
    "First make sure to install necessary packages:"
   ]
  },
  {
   "cell_type": "code",
   "execution_count": null,
   "id": "b8884266",
   "metadata": {},
   "outputs": [
    {
     "name": "stderr",
     "output_type": "stream",
     "text": [
      "\n",
      "[notice] A new release of pip is available: 24.0 -> 25.2\n",
      "[notice] To update, run: python.exe -m pip install --upgrade pip\n"
     ]
    }
   ],
   "source": [
    "import sys\n",
    "!{sys.executable} -m pip install -q kagglehub pandas matplotlib seaborn ipython-sql;"
   ]
  },
  {
   "cell_type": "markdown",
   "id": "ab1aee94",
   "metadata": {},
   "source": [
    "Then import the required libraries and data set:"
   ]
  },
  {
   "cell_type": "code",
   "execution_count": 10,
   "id": "3e416049",
   "metadata": {},
   "outputs": [
    {
     "name": "stderr",
     "output_type": "stream",
     "text": [
      "c:\\Users\\willr\\AppData\\Local\\Programs\\Python\\Python312\\Lib\\site-packages\\tqdm\\auto.py:21: TqdmWarning: IProgress not found. Please update jupyter and ipywidgets. See https://ipywidgets.readthedocs.io/en/stable/user_install.html\n",
      "  from .autonotebook import tqdm as notebook_tqdm\n"
     ]
    },
    {
     "name": "stdout",
     "output_type": "stream",
     "text": [
      "Path to dataset files: C:\\Users\\willr\\.cache\\kagglehub\\datasets\\imdevskp\\corona-virus-report\\versions\\166\n"
     ]
    }
   ],
   "source": [
    "import kagglehub\n",
    "\n",
    "path = kagglehub.dataset_download(\"imdevskp/corona-virus-report\")\n",
    "print(\"Path to dataset files:\", path)"
   ]
  },
  {
   "cell_type": "code",
   "execution_count": 11,
   "id": "e9ccfc31",
   "metadata": {},
   "outputs": [
    {
     "name": "stdout",
     "output_type": "stream",
     "text": [
      "Files in dataset directory:\n",
      "['country_wise_latest.csv', 'covid_19_clean_complete.csv', 'day_wise.csv', 'full_grouped.csv', 'usa_county_wise.csv', 'worldometer_data.csv']\n"
     ]
    }
   ],
   "source": [
    "import os\n",
    "\n",
    "print(\"Files in dataset directory:\")\n",
    "print(os.listdir(path))"
   ]
  },
  {
   "cell_type": "code",
   "execution_count": 12,
   "id": "909dd8a6",
   "metadata": {},
   "outputs": [
    {
     "data": {
      "text/html": [
       "<div>\n",
       "<style scoped>\n",
       "    .dataframe tbody tr th:only-of-type {\n",
       "        vertical-align: middle;\n",
       "    }\n",
       "\n",
       "    .dataframe tbody tr th {\n",
       "        vertical-align: top;\n",
       "    }\n",
       "\n",
       "    .dataframe thead th {\n",
       "        text-align: right;\n",
       "    }\n",
       "</style>\n",
       "<table border=\"1\" class=\"dataframe\">\n",
       "  <thead>\n",
       "    <tr style=\"text-align: right;\">\n",
       "      <th></th>\n",
       "      <th>Province/State</th>\n",
       "      <th>Country/Region</th>\n",
       "      <th>Lat</th>\n",
       "      <th>Long</th>\n",
       "      <th>Date</th>\n",
       "      <th>Confirmed</th>\n",
       "      <th>Deaths</th>\n",
       "      <th>Recovered</th>\n",
       "      <th>Active</th>\n",
       "      <th>WHO Region</th>\n",
       "    </tr>\n",
       "  </thead>\n",
       "  <tbody>\n",
       "    <tr>\n",
       "      <th>0</th>\n",
       "      <td>NaN</td>\n",
       "      <td>Afghanistan</td>\n",
       "      <td>33.93911</td>\n",
       "      <td>67.709953</td>\n",
       "      <td>2020-01-22</td>\n",
       "      <td>0</td>\n",
       "      <td>0</td>\n",
       "      <td>0</td>\n",
       "      <td>0</td>\n",
       "      <td>Eastern Mediterranean</td>\n",
       "    </tr>\n",
       "    <tr>\n",
       "      <th>1</th>\n",
       "      <td>NaN</td>\n",
       "      <td>Albania</td>\n",
       "      <td>41.15330</td>\n",
       "      <td>20.168300</td>\n",
       "      <td>2020-01-22</td>\n",
       "      <td>0</td>\n",
       "      <td>0</td>\n",
       "      <td>0</td>\n",
       "      <td>0</td>\n",
       "      <td>Europe</td>\n",
       "    </tr>\n",
       "    <tr>\n",
       "      <th>2</th>\n",
       "      <td>NaN</td>\n",
       "      <td>Algeria</td>\n",
       "      <td>28.03390</td>\n",
       "      <td>1.659600</td>\n",
       "      <td>2020-01-22</td>\n",
       "      <td>0</td>\n",
       "      <td>0</td>\n",
       "      <td>0</td>\n",
       "      <td>0</td>\n",
       "      <td>Africa</td>\n",
       "    </tr>\n",
       "    <tr>\n",
       "      <th>3</th>\n",
       "      <td>NaN</td>\n",
       "      <td>Andorra</td>\n",
       "      <td>42.50630</td>\n",
       "      <td>1.521800</td>\n",
       "      <td>2020-01-22</td>\n",
       "      <td>0</td>\n",
       "      <td>0</td>\n",
       "      <td>0</td>\n",
       "      <td>0</td>\n",
       "      <td>Europe</td>\n",
       "    </tr>\n",
       "    <tr>\n",
       "      <th>4</th>\n",
       "      <td>NaN</td>\n",
       "      <td>Angola</td>\n",
       "      <td>-11.20270</td>\n",
       "      <td>17.873900</td>\n",
       "      <td>2020-01-22</td>\n",
       "      <td>0</td>\n",
       "      <td>0</td>\n",
       "      <td>0</td>\n",
       "      <td>0</td>\n",
       "      <td>Africa</td>\n",
       "    </tr>\n",
       "  </tbody>\n",
       "</table>\n",
       "</div>"
      ],
      "text/plain": [
       "  Province/State Country/Region       Lat       Long        Date  Confirmed  \\\n",
       "0            NaN    Afghanistan  33.93911  67.709953  2020-01-22          0   \n",
       "1            NaN        Albania  41.15330  20.168300  2020-01-22          0   \n",
       "2            NaN        Algeria  28.03390   1.659600  2020-01-22          0   \n",
       "3            NaN        Andorra  42.50630   1.521800  2020-01-22          0   \n",
       "4            NaN         Angola -11.20270  17.873900  2020-01-22          0   \n",
       "\n",
       "   Deaths  Recovered  Active             WHO Region  \n",
       "0       0          0       0  Eastern Mediterranean  \n",
       "1       0          0       0                 Europe  \n",
       "2       0          0       0                 Africa  \n",
       "3       0          0       0                 Europe  \n",
       "4       0          0       0                 Africa  "
      ]
     },
     "execution_count": 12,
     "metadata": {},
     "output_type": "execute_result"
    }
   ],
   "source": [
    "import pandas as pd\n",
    "\n",
    "csv_path = os.path.join(path, \"covid_19_clean_complete.csv\")\n",
    "df = pd.read_csv(csv_path)\n",
    "df.head()"
   ]
  },
  {
   "cell_type": "markdown",
   "id": "616d86d6",
   "metadata": {},
   "source": [
    "Now we have an idea of what the data looks like, lets also look at all the countries included"
   ]
  },
  {
   "cell_type": "code",
   "execution_count": 13,
   "id": "52c1ecb2",
   "metadata": {},
   "outputs": [
    {
     "data": {
      "text/plain": [
       "array(['Afghanistan', 'Albania', 'Algeria', 'Andorra', 'Angola',\n",
       "       'Antigua and Barbuda', 'Argentina', 'Armenia', 'Australia',\n",
       "       'Austria', 'Azerbaijan', 'Bahamas', 'Bahrain', 'Bangladesh',\n",
       "       'Barbados', 'Belarus', 'Belgium', 'Benin', 'Bhutan', 'Bolivia',\n",
       "       'Bosnia and Herzegovina', 'Brazil', 'Brunei', 'Bulgaria',\n",
       "       'Burkina Faso', 'Cabo Verde', 'Cambodia', 'Cameroon', 'Canada',\n",
       "       'Central African Republic', 'Chad', 'Chile', 'China', 'Colombia',\n",
       "       'Congo (Brazzaville)', 'Congo (Kinshasa)', 'Costa Rica',\n",
       "       \"Cote d'Ivoire\", 'Croatia', 'Cuba', 'Cyprus', 'Czechia', 'Denmark',\n",
       "       'Greenland', 'Djibouti', 'Dominican Republic', 'Ecuador', 'Egypt',\n",
       "       'El Salvador', 'Equatorial Guinea', 'Eritrea', 'Estonia',\n",
       "       'Eswatini', 'Ethiopia', 'Fiji', 'Finland', 'France', 'Gabon',\n",
       "       'Gambia', 'Georgia', 'Germany', 'Ghana', 'Greece', 'Guatemala',\n",
       "       'Guinea', 'Guyana', 'Haiti', 'Holy See', 'Honduras', 'Hungary',\n",
       "       'Iceland', 'India', 'Indonesia', 'Iran', 'Iraq', 'Ireland',\n",
       "       'Israel', 'Italy', 'Jamaica', 'Japan', 'Jordan', 'Kazakhstan',\n",
       "       'Kenya', 'South Korea', 'Kuwait', 'Kyrgyzstan', 'Latvia',\n",
       "       'Lebanon', 'Liberia', 'Liechtenstein', 'Lithuania', 'Luxembourg',\n",
       "       'Madagascar', 'Malaysia', 'Maldives', 'Malta', 'Mauritania',\n",
       "       'Mauritius', 'Mexico', 'Moldova', 'Monaco', 'Mongolia',\n",
       "       'Montenegro', 'Morocco', 'Namibia', 'Nepal', 'Netherlands',\n",
       "       'New Zealand', 'Nicaragua', 'Niger', 'Nigeria', 'North Macedonia',\n",
       "       'Norway', 'Oman', 'Pakistan', 'Panama', 'Papua New Guinea',\n",
       "       'Paraguay', 'Peru', 'Philippines', 'Poland', 'Portugal', 'Qatar',\n",
       "       'Romania', 'Russia', 'Rwanda', 'Saint Lucia',\n",
       "       'Saint Vincent and the Grenadines', 'San Marino', 'Saudi Arabia',\n",
       "       'Senegal', 'Serbia', 'Seychelles', 'Singapore', 'Slovakia',\n",
       "       'Slovenia', 'Somalia', 'South Africa', 'Spain', 'Sri Lanka',\n",
       "       'Sudan', 'Suriname', 'Sweden', 'Switzerland', 'Taiwan*',\n",
       "       'Tanzania', 'Thailand', 'Togo', 'Trinidad and Tobago', 'Tunisia',\n",
       "       'Turkey', 'Uganda', 'Ukraine', 'United Arab Emirates',\n",
       "       'United Kingdom', 'Uruguay', 'US', 'Uzbekistan', 'Venezuela',\n",
       "       'Vietnam', 'Zambia', 'Zimbabwe', 'Dominica', 'Grenada',\n",
       "       'Mozambique', 'Syria', 'Timor-Leste', 'Belize', 'Laos', 'Libya',\n",
       "       'West Bank and Gaza', 'Guinea-Bissau', 'Mali',\n",
       "       'Saint Kitts and Nevis', 'Kosovo', 'Burma', 'Botswana', 'Burundi',\n",
       "       'Sierra Leone', 'Malawi', 'South Sudan', 'Western Sahara',\n",
       "       'Sao Tome and Principe', 'Yemen', 'Comoros', 'Tajikistan',\n",
       "       'Lesotho'], dtype=object)"
      ]
     },
     "execution_count": 13,
     "metadata": {},
     "output_type": "execute_result"
    }
   ],
   "source": [
    "df['Country/Region'].unique()"
   ]
  },
  {
   "cell_type": "markdown",
   "id": "57bc69cc",
   "metadata": {},
   "source": [
    "### Clean and explore the data\n",
    "\n",
    "Since this table does not contain information for `Province/State` I'll remove the column\\\n",
    "I'll also rename the \"Country/Region\" column to just \"Country\" for ease of use\n",
    "I'll also rename \"Who Region\" to \"Who_Region\" to avoid mistakes"
   ]
  },
  {
   "cell_type": "code",
   "execution_count": 14,
   "id": "d07a1dce",
   "metadata": {},
   "outputs": [
    {
     "data": {
      "text/html": [
       "<div>\n",
       "<style scoped>\n",
       "    .dataframe tbody tr th:only-of-type {\n",
       "        vertical-align: middle;\n",
       "    }\n",
       "\n",
       "    .dataframe tbody tr th {\n",
       "        vertical-align: top;\n",
       "    }\n",
       "\n",
       "    .dataframe thead th {\n",
       "        text-align: right;\n",
       "    }\n",
       "</style>\n",
       "<table border=\"1\" class=\"dataframe\">\n",
       "  <thead>\n",
       "    <tr style=\"text-align: right;\">\n",
       "      <th></th>\n",
       "      <th>Country</th>\n",
       "      <th>Lat</th>\n",
       "      <th>Long</th>\n",
       "      <th>Date</th>\n",
       "      <th>Confirmed</th>\n",
       "      <th>Deaths</th>\n",
       "      <th>Recovered</th>\n",
       "      <th>Active</th>\n",
       "      <th>WHO_Region</th>\n",
       "    </tr>\n",
       "  </thead>\n",
       "  <tbody>\n",
       "    <tr>\n",
       "      <th>0</th>\n",
       "      <td>Afghanistan</td>\n",
       "      <td>33.93911</td>\n",
       "      <td>67.709953</td>\n",
       "      <td>2020-01-22</td>\n",
       "      <td>0</td>\n",
       "      <td>0</td>\n",
       "      <td>0</td>\n",
       "      <td>0</td>\n",
       "      <td>Eastern Mediterranean</td>\n",
       "    </tr>\n",
       "    <tr>\n",
       "      <th>1</th>\n",
       "      <td>Albania</td>\n",
       "      <td>41.15330</td>\n",
       "      <td>20.168300</td>\n",
       "      <td>2020-01-22</td>\n",
       "      <td>0</td>\n",
       "      <td>0</td>\n",
       "      <td>0</td>\n",
       "      <td>0</td>\n",
       "      <td>Europe</td>\n",
       "    </tr>\n",
       "    <tr>\n",
       "      <th>2</th>\n",
       "      <td>Algeria</td>\n",
       "      <td>28.03390</td>\n",
       "      <td>1.659600</td>\n",
       "      <td>2020-01-22</td>\n",
       "      <td>0</td>\n",
       "      <td>0</td>\n",
       "      <td>0</td>\n",
       "      <td>0</td>\n",
       "      <td>Africa</td>\n",
       "    </tr>\n",
       "    <tr>\n",
       "      <th>3</th>\n",
       "      <td>Andorra</td>\n",
       "      <td>42.50630</td>\n",
       "      <td>1.521800</td>\n",
       "      <td>2020-01-22</td>\n",
       "      <td>0</td>\n",
       "      <td>0</td>\n",
       "      <td>0</td>\n",
       "      <td>0</td>\n",
       "      <td>Europe</td>\n",
       "    </tr>\n",
       "    <tr>\n",
       "      <th>4</th>\n",
       "      <td>Angola</td>\n",
       "      <td>-11.20270</td>\n",
       "      <td>17.873900</td>\n",
       "      <td>2020-01-22</td>\n",
       "      <td>0</td>\n",
       "      <td>0</td>\n",
       "      <td>0</td>\n",
       "      <td>0</td>\n",
       "      <td>Africa</td>\n",
       "    </tr>\n",
       "  </tbody>\n",
       "</table>\n",
       "</div>"
      ],
      "text/plain": [
       "       Country       Lat       Long        Date  Confirmed  Deaths  Recovered  \\\n",
       "0  Afghanistan  33.93911  67.709953  2020-01-22          0       0          0   \n",
       "1      Albania  41.15330  20.168300  2020-01-22          0       0          0   \n",
       "2      Algeria  28.03390   1.659600  2020-01-22          0       0          0   \n",
       "3      Andorra  42.50630   1.521800  2020-01-22          0       0          0   \n",
       "4       Angola -11.20270  17.873900  2020-01-22          0       0          0   \n",
       "\n",
       "   Active             WHO_Region  \n",
       "0       0  Eastern Mediterranean  \n",
       "1       0                 Europe  \n",
       "2       0                 Africa  \n",
       "3       0                 Europe  \n",
       "4       0                 Africa  "
      ]
     },
     "execution_count": 14,
     "metadata": {},
     "output_type": "execute_result"
    }
   ],
   "source": [
    "df = df.drop(columns=[\"Province/State\"])\n",
    "df.rename(columns={'Country/Region': 'Country'}, inplace=True)\n",
    "df.rename(columns={'WHO Region': 'WHO_Region'}, inplace=True)\n",
    "df.head()"
   ]
  },
  {
   "cell_type": "markdown",
   "id": "7ace4e3c",
   "metadata": {},
   "source": [
    "Now lets explore the other columns and look for missing values"
   ]
  },
  {
   "cell_type": "code",
   "execution_count": 15,
   "id": "d29c0ea5",
   "metadata": {},
   "outputs": [
    {
     "name": "stdout",
     "output_type": "stream",
     "text": [
      "<class 'pandas.core.frame.DataFrame'>\n",
      "RangeIndex: 49068 entries, 0 to 49067\n",
      "Data columns (total 9 columns):\n",
      " #   Column      Non-Null Count  Dtype  \n",
      "---  ------      --------------  -----  \n",
      " 0   Country     49068 non-null  object \n",
      " 1   Lat         49068 non-null  float64\n",
      " 2   Long        49068 non-null  float64\n",
      " 3   Date        49068 non-null  object \n",
      " 4   Confirmed   49068 non-null  int64  \n",
      " 5   Deaths      49068 non-null  int64  \n",
      " 6   Recovered   49068 non-null  int64  \n",
      " 7   Active      49068 non-null  int64  \n",
      " 8   WHO_Region  49068 non-null  object \n",
      "dtypes: float64(2), int64(4), object(3)\n",
      "memory usage: 3.4+ MB\n"
     ]
    }
   ],
   "source": [
    "# Take a look at the column types as well as null values\n",
    "df.info()"
   ]
  },
  {
   "cell_type": "markdown",
   "id": "88446f32",
   "metadata": {},
   "source": [
    "* There are no null objects in any of the remaining columns\n",
    "* `Confirmed`, `Deaths`,  `Recovered`, and `Active` are all integers, which are good for mathematical analysis\n",
    "* However, `Country/Region`, `Date`, and `Who_Region` are all saved as objects, so I'll change them to more valuable types for data analysis"
   ]
  },
  {
   "cell_type": "code",
   "execution_count": 16,
   "id": "1804fe67",
   "metadata": {},
   "outputs": [],
   "source": [
    "df['Date'] = pd.to_datetime(df['Date']) # Makes date into date format\n",
    "df['Country'] = df['Country'].astype('category') # Makes Country into a category since we have multiple instances of each\n",
    "df['WHO_Region'] = df['WHO_Region'].astype('category') # Makes Region a category since we have multiple instances of each"
   ]
  },
  {
   "cell_type": "markdown",
   "id": "154549e1",
   "metadata": {},
   "source": [
    "Next I'll use the `describe()` method to get a better idea of what the data looks like\\\n",
    "This should be particularly helpful in inspiring potential questions to answer using data analysis"
   ]
  },
  {
   "cell_type": "code",
   "execution_count": 17,
   "id": "c8436a3a",
   "metadata": {},
   "outputs": [
    {
     "data": {
      "text/html": [
       "<div>\n",
       "<style scoped>\n",
       "    .dataframe tbody tr th:only-of-type {\n",
       "        vertical-align: middle;\n",
       "    }\n",
       "\n",
       "    .dataframe tbody tr th {\n",
       "        vertical-align: top;\n",
       "    }\n",
       "\n",
       "    .dataframe thead th {\n",
       "        text-align: right;\n",
       "    }\n",
       "</style>\n",
       "<table border=\"1\" class=\"dataframe\">\n",
       "  <thead>\n",
       "    <tr style=\"text-align: right;\">\n",
       "      <th></th>\n",
       "      <th>Lat</th>\n",
       "      <th>Long</th>\n",
       "      <th>Date</th>\n",
       "      <th>Confirmed</th>\n",
       "      <th>Deaths</th>\n",
       "      <th>Recovered</th>\n",
       "      <th>Active</th>\n",
       "    </tr>\n",
       "  </thead>\n",
       "  <tbody>\n",
       "    <tr>\n",
       "      <th>count</th>\n",
       "      <td>49068.000000</td>\n",
       "      <td>49068.000000</td>\n",
       "      <td>49068</td>\n",
       "      <td>4.906800e+04</td>\n",
       "      <td>49068.000000</td>\n",
       "      <td>4.906800e+04</td>\n",
       "      <td>4.906800e+04</td>\n",
       "    </tr>\n",
       "    <tr>\n",
       "      <th>mean</th>\n",
       "      <td>21.433730</td>\n",
       "      <td>23.528236</td>\n",
       "      <td>2020-04-24 12:00:00</td>\n",
       "      <td>1.688490e+04</td>\n",
       "      <td>884.179160</td>\n",
       "      <td>7.915713e+03</td>\n",
       "      <td>8.085012e+03</td>\n",
       "    </tr>\n",
       "    <tr>\n",
       "      <th>min</th>\n",
       "      <td>-51.796300</td>\n",
       "      <td>-135.000000</td>\n",
       "      <td>2020-01-22 00:00:00</td>\n",
       "      <td>0.000000e+00</td>\n",
       "      <td>0.000000</td>\n",
       "      <td>0.000000e+00</td>\n",
       "      <td>-1.400000e+01</td>\n",
       "    </tr>\n",
       "    <tr>\n",
       "      <th>25%</th>\n",
       "      <td>7.873054</td>\n",
       "      <td>-15.310100</td>\n",
       "      <td>2020-03-08 18:00:00</td>\n",
       "      <td>4.000000e+00</td>\n",
       "      <td>0.000000</td>\n",
       "      <td>0.000000e+00</td>\n",
       "      <td>0.000000e+00</td>\n",
       "    </tr>\n",
       "    <tr>\n",
       "      <th>50%</th>\n",
       "      <td>23.634500</td>\n",
       "      <td>21.745300</td>\n",
       "      <td>2020-04-24 12:00:00</td>\n",
       "      <td>1.680000e+02</td>\n",
       "      <td>2.000000</td>\n",
       "      <td>2.900000e+01</td>\n",
       "      <td>2.600000e+01</td>\n",
       "    </tr>\n",
       "    <tr>\n",
       "      <th>75%</th>\n",
       "      <td>41.204380</td>\n",
       "      <td>80.771797</td>\n",
       "      <td>2020-06-10 06:00:00</td>\n",
       "      <td>1.518250e+03</td>\n",
       "      <td>30.000000</td>\n",
       "      <td>6.660000e+02</td>\n",
       "      <td>6.060000e+02</td>\n",
       "    </tr>\n",
       "    <tr>\n",
       "      <th>max</th>\n",
       "      <td>71.706900</td>\n",
       "      <td>178.065000</td>\n",
       "      <td>2020-07-27 00:00:00</td>\n",
       "      <td>4.290259e+06</td>\n",
       "      <td>148011.000000</td>\n",
       "      <td>1.846641e+06</td>\n",
       "      <td>2.816444e+06</td>\n",
       "    </tr>\n",
       "    <tr>\n",
       "      <th>std</th>\n",
       "      <td>24.950320</td>\n",
       "      <td>70.442740</td>\n",
       "      <td>NaN</td>\n",
       "      <td>1.273002e+05</td>\n",
       "      <td>6313.584411</td>\n",
       "      <td>5.480092e+04</td>\n",
       "      <td>7.625890e+04</td>\n",
       "    </tr>\n",
       "  </tbody>\n",
       "</table>\n",
       "</div>"
      ],
      "text/plain": [
       "                Lat          Long                 Date     Confirmed  \\\n",
       "count  49068.000000  49068.000000                49068  4.906800e+04   \n",
       "mean      21.433730     23.528236  2020-04-24 12:00:00  1.688490e+04   \n",
       "min      -51.796300   -135.000000  2020-01-22 00:00:00  0.000000e+00   \n",
       "25%        7.873054    -15.310100  2020-03-08 18:00:00  4.000000e+00   \n",
       "50%       23.634500     21.745300  2020-04-24 12:00:00  1.680000e+02   \n",
       "75%       41.204380     80.771797  2020-06-10 06:00:00  1.518250e+03   \n",
       "max       71.706900    178.065000  2020-07-27 00:00:00  4.290259e+06   \n",
       "std       24.950320     70.442740                  NaN  1.273002e+05   \n",
       "\n",
       "              Deaths     Recovered        Active  \n",
       "count   49068.000000  4.906800e+04  4.906800e+04  \n",
       "mean      884.179160  7.915713e+03  8.085012e+03  \n",
       "min         0.000000  0.000000e+00 -1.400000e+01  \n",
       "25%         0.000000  0.000000e+00  0.000000e+00  \n",
       "50%         2.000000  2.900000e+01  2.600000e+01  \n",
       "75%        30.000000  6.660000e+02  6.060000e+02  \n",
       "max    148011.000000  1.846641e+06  2.816444e+06  \n",
       "std      6313.584411  5.480092e+04  7.625890e+04  "
      ]
     },
     "execution_count": 17,
     "metadata": {},
     "output_type": "execute_result"
    }
   ],
   "source": [
    "df.describe()"
   ]
  },
  {
   "cell_type": "markdown",
   "id": "aa9458ae",
   "metadata": {},
   "source": [
    "* It looks like our data starts on January 22, 2020 going up until July 27, 2020\n",
    "* Some countries have 0 recorded confirmed, deaths, and recovered which may be useful to remove/ignore\n",
    "* On the other hand, countries had up to 148,011 deaths with 2,816,444 active cases"
   ]
  },
  {
   "cell_type": "markdown",
   "id": "5a65c7ff",
   "metadata": {},
   "source": [
    "SQL will be particularly helpful for me to run queries on this data set\\\n",
    "I'll use `sqlite3` to run SQL queries in Python"
   ]
  },
  {
   "cell_type": "code",
   "execution_count": 18,
   "id": "bfa091bb",
   "metadata": {},
   "outputs": [
    {
     "name": "stdout",
     "output_type": "stream",
     "text": [
      "The sql extension is already loaded. To reload it, use:\n",
      "  %reload_ext sql\n"
     ]
    }
   ],
   "source": [
    "import sqlite3, prettytable\n",
    "\n",
    "# Include prettytable to display results\n",
    "prettytable.DEFAULT = 'DEFAULT'\n",
    "\n",
    "# Allow sql cell magic\n",
    "%load_ext sql\n",
    "\n",
    "# Make the database 'covid.db' with the table 'covid' and connect to it\n",
    "con = sqlite3.connect(\"covid.db\")\n",
    "df.to_sql('covid', con, if_exists='replace', index=False)\n",
    "\n",
    "# Use the database 'covid.db'\n",
    "%sql sqlite:///covid.db"
   ]
  },
  {
   "cell_type": "markdown",
   "id": "438dc6e8",
   "metadata": {},
   "source": [
    "Start by checking everything still works by running a simple query"
   ]
  },
  {
   "cell_type": "code",
   "execution_count": 70,
   "id": "1aeed89e",
   "metadata": {},
   "outputs": [
    {
     "name": "stdout",
     "output_type": "stream",
     "text": [
      " * sqlite:///covid.db\n",
      "Done.\n"
     ]
    },
    {
     "data": {
      "text/html": [
       "<table>\n",
       "    <thead>\n",
       "        <tr>\n",
       "            <th>Country</th>\n",
       "            <th>Lat</th>\n",
       "            <th>Long</th>\n",
       "            <th>Date</th>\n",
       "            <th>Confirmed</th>\n",
       "            <th>Deaths</th>\n",
       "            <th>Recovered</th>\n",
       "            <th>Active</th>\n",
       "            <th>WHO_Region</th>\n",
       "        </tr>\n",
       "    </thead>\n",
       "    <tbody>\n",
       "        <tr>\n",
       "            <td>Afghanistan</td>\n",
       "            <td>33.93911</td>\n",
       "            <td>67.709953</td>\n",
       "            <td>2020-01-22 00:00:00</td>\n",
       "            <td>0</td>\n",
       "            <td>0</td>\n",
       "            <td>0</td>\n",
       "            <td>0</td>\n",
       "            <td>Eastern Mediterranean</td>\n",
       "        </tr>\n",
       "        <tr>\n",
       "            <td>Albania</td>\n",
       "            <td>41.1533</td>\n",
       "            <td>20.1683</td>\n",
       "            <td>2020-01-22 00:00:00</td>\n",
       "            <td>0</td>\n",
       "            <td>0</td>\n",
       "            <td>0</td>\n",
       "            <td>0</td>\n",
       "            <td>Europe</td>\n",
       "        </tr>\n",
       "        <tr>\n",
       "            <td>Algeria</td>\n",
       "            <td>28.0339</td>\n",
       "            <td>1.6596</td>\n",
       "            <td>2020-01-22 00:00:00</td>\n",
       "            <td>0</td>\n",
       "            <td>0</td>\n",
       "            <td>0</td>\n",
       "            <td>0</td>\n",
       "            <td>Africa</td>\n",
       "        </tr>\n",
       "        <tr>\n",
       "            <td>Andorra</td>\n",
       "            <td>42.5063</td>\n",
       "            <td>1.5218</td>\n",
       "            <td>2020-01-22 00:00:00</td>\n",
       "            <td>0</td>\n",
       "            <td>0</td>\n",
       "            <td>0</td>\n",
       "            <td>0</td>\n",
       "            <td>Europe</td>\n",
       "        </tr>\n",
       "        <tr>\n",
       "            <td>Angola</td>\n",
       "            <td>-11.2027</td>\n",
       "            <td>17.8739</td>\n",
       "            <td>2020-01-22 00:00:00</td>\n",
       "            <td>0</td>\n",
       "            <td>0</td>\n",
       "            <td>0</td>\n",
       "            <td>0</td>\n",
       "            <td>Africa</td>\n",
       "        </tr>\n",
       "    </tbody>\n",
       "</table>"
      ],
      "text/plain": [
       "[('Afghanistan', 33.93911, 67.709953, '2020-01-22 00:00:00', 0, 0, 0, 0, 'Eastern Mediterranean'),\n",
       " ('Albania', 41.1533, 20.1683, '2020-01-22 00:00:00', 0, 0, 0, 0, 'Europe'),\n",
       " ('Algeria', 28.0339, 1.6596, '2020-01-22 00:00:00', 0, 0, 0, 0, 'Africa'),\n",
       " ('Andorra', 42.5063, 1.5218, '2020-01-22 00:00:00', 0, 0, 0, 0, 'Europe'),\n",
       " ('Angola', -11.2027, 17.8739, '2020-01-22 00:00:00', 0, 0, 0, 0, 'Africa')]"
      ]
     },
     "execution_count": 70,
     "metadata": {},
     "output_type": "execute_result"
    }
   ],
   "source": [
    "%%sql\n",
    "select *\n",
    "from covid\n",
    "limit 5;"
   ]
  },
  {
   "cell_type": "markdown",
   "id": "666b5f60",
   "metadata": {},
   "source": [
    "`df.describe()` already gave us a pretty good understanding of this data set\\\n",
    "However, I'd like to take a look at which Countries and Regions had particularly high case numbers\\\n",
    "I'd also like to check out which countries have no records in this table and may need to be removed"
   ]
  },
  {
   "cell_type": "code",
   "execution_count": 80,
   "id": "e036dc8f",
   "metadata": {},
   "outputs": [
    {
     "name": "stdout",
     "output_type": "stream",
     "text": [
      " * sqlite:///covid.db\n",
      "Done.\n"
     ]
    },
    {
     "data": {
      "text/html": [
       "<table>\n",
       "    <thead>\n",
       "        <tr>\n",
       "            <th>Country</th>\n",
       "            <th>total_confirmed</th>\n",
       "            <th>total_deaths</th>\n",
       "            <th>total_recovered</th>\n",
       "            <th>total_active</th>\n",
       "        </tr>\n",
       "    </thead>\n",
       "    <tbody>\n",
       "        <tr>\n",
       "            <td>US</td>\n",
       "            <td>4290259</td>\n",
       "            <td>148011</td>\n",
       "            <td>1325804</td>\n",
       "            <td>2816444</td>\n",
       "        </tr>\n",
       "        <tr>\n",
       "            <td>Brazil</td>\n",
       "            <td>2442375</td>\n",
       "            <td>87618</td>\n",
       "            <td>1846641</td>\n",
       "            <td>508116</td>\n",
       "        </tr>\n",
       "        <tr>\n",
       "            <td>India</td>\n",
       "            <td>1480073</td>\n",
       "            <td>33408</td>\n",
       "            <td>951166</td>\n",
       "            <td>495499</td>\n",
       "        </tr>\n",
       "        <tr>\n",
       "            <td>Russia</td>\n",
       "            <td>816680</td>\n",
       "            <td>13334</td>\n",
       "            <td>602249</td>\n",
       "            <td>201097</td>\n",
       "        </tr>\n",
       "        <tr>\n",
       "            <td>South Africa</td>\n",
       "            <td>452529</td>\n",
       "            <td>7067</td>\n",
       "            <td>274925</td>\n",
       "            <td>170537</td>\n",
       "        </tr>\n",
       "    </tbody>\n",
       "</table>"
      ],
      "text/plain": [
       "[('US', 4290259, 148011, 1325804, 2816444),\n",
       " ('Brazil', 2442375, 87618, 1846641, 508116),\n",
       " ('India', 1480073, 33408, 951166, 495499),\n",
       " ('Russia', 816680, 13334, 602249, 201097),\n",
       " ('South Africa', 452529, 7067, 274925, 170537)]"
      ]
     },
     "execution_count": 80,
     "metadata": {},
     "output_type": "execute_result"
    }
   ],
   "source": [
    "%%sql\n",
    "select\n",
    "    Country,\n",
    "    sum(Confirmed) as total_confirmed,\n",
    "    sum(Deaths) as total_deaths,\n",
    "    sum(Recovered) as total_recovered,\n",
    "    sum(Active) as total_active\n",
    "from covid\n",
    "where -- this ensures we only take the final cumulative data for each country so no country repeats\n",
    "    date = '2020-07-27 00:00:00'\n",
    "group by -- necessary to resolve all the instances where the Country is the same on the same day\n",
    "    Country\n",
    "order by\n",
    "    total_confirmed desc,\n",
    "    total_deaths desc\n",
    "limit 5;"
   ]
  },
  {
   "cell_type": "code",
   "execution_count": null,
   "id": "c8fa4f82",
   "metadata": {},
   "outputs": [
    {
     "name": "stdout",
     "output_type": "stream",
     "text": [
      " * sqlite:///covid.db\n",
      "Done.\n"
     ]
    },
    {
     "data": {
      "text/html": [
       "<table>\n",
       "    <thead>\n",
       "        <tr>\n",
       "            <th>Country</th>\n",
       "            <th>total_confirmed</th>\n",
       "            <th>total_deaths</th>\n",
       "            <th>total_recovered</th>\n",
       "            <th>total_active</th>\n",
       "        </tr>\n",
       "    </thead>\n",
       "    <tbody>\n",
       "        <tr>\n",
       "            <td>Brazil</td>\n",
       "            <td>2442375</td>\n",
       "            <td>87618</td>\n",
       "            <td>1846641</td>\n",
       "            <td>508116</td>\n",
       "        </tr>\n",
       "        <tr>\n",
       "            <td>US</td>\n",
       "            <td>4290259</td>\n",
       "            <td>148011</td>\n",
       "            <td>1325804</td>\n",
       "            <td>2816444</td>\n",
       "        </tr>\n",
       "        <tr>\n",
       "            <td>India</td>\n",
       "            <td>1480073</td>\n",
       "            <td>33408</td>\n",
       "            <td>951166</td>\n",
       "            <td>495499</td>\n",
       "        </tr>\n",
       "        <tr>\n",
       "            <td>Russia</td>\n",
       "            <td>816680</td>\n",
       "            <td>13334</td>\n",
       "            <td>602249</td>\n",
       "            <td>201097</td>\n",
       "        </tr>\n",
       "        <tr>\n",
       "            <td>Chile</td>\n",
       "            <td>347923</td>\n",
       "            <td>9187</td>\n",
       "            <td>319954</td>\n",
       "            <td>18782</td>\n",
       "        </tr>\n",
       "    </tbody>\n",
       "</table>"
      ],
      "text/plain": [
       "[('Brazil', 2442375, 87618, 1846641, 508116),\n",
       " ('US', 4290259, 148011, 1325804, 2816444),\n",
       " ('India', 1480073, 33408, 951166, 495499),\n",
       " ('Russia', 816680, 13334, 602249, 201097),\n",
       " ('Chile', 347923, 9187, 319954, 18782)]"
      ]
     },
     "execution_count": 82,
     "metadata": {},
     "output_type": "execute_result"
    }
   ],
   "source": [
    "%%sql\n",
    "select\n",
    "    Country,\n",
    "    sum(Confirmed) as total_confirmed,\n",
    "    sum(Deaths) as total_deaths,\n",
    "    sum(Recovered) as total_recovered,\n",
    "    sum(Active) as total_active\n",
    "from covid\n",
    "where -- this ensures we only take the final cumulative data for each country so no country repeats\n",
    "    date = '2020-07-27 00:00:00'\n",
    "group by -- just in case some countries have multiple entries on the same day\n",
    "    Country\n",
    "order by\n",
    "    total_recovered desc,\n",
    "    total_active desc\n",
    "limit 5;"
   ]
  },
  {
   "cell_type": "code",
   "execution_count": 83,
   "id": "6491823e",
   "metadata": {},
   "outputs": [
    {
     "name": "stdout",
     "output_type": "stream",
     "text": [
      " * sqlite:///covid.db\n",
      "Done.\n"
     ]
    },
    {
     "data": {
      "text/html": [
       "<table>\n",
       "    <thead>\n",
       "        <tr>\n",
       "            <th>Country</th>\n",
       "            <th>Recovery_Ratio</th>\n",
       "        </tr>\n",
       "    </thead>\n",
       "    <tbody>\n",
       "        <tr>\n",
       "            <td>Holy See</td>\n",
       "            <td>1.0</td>\n",
       "        </tr>\n",
       "        <tr>\n",
       "            <td>Grenada</td>\n",
       "            <td>1.0</td>\n",
       "        </tr>\n",
       "        <tr>\n",
       "            <td>Dominica</td>\n",
       "            <td>1.0</td>\n",
       "        </tr>\n",
       "        <tr>\n",
       "            <td>Djibouti</td>\n",
       "            <td>0.9837912630954734</td>\n",
       "        </tr>\n",
       "        <tr>\n",
       "            <td>Iceland</td>\n",
       "            <td>0.9832793959007551</td>\n",
       "        </tr>\n",
       "    </tbody>\n",
       "</table>"
      ],
      "text/plain": [
       "[('Holy See', 1.0),\n",
       " ('Grenada', 1.0),\n",
       " ('Dominica', 1.0),\n",
       " ('Djibouti', 0.9837912630954734),\n",
       " ('Iceland', 0.9832793959007551)]"
      ]
     },
     "execution_count": 83,
     "metadata": {},
     "output_type": "execute_result"
    }
   ],
   "source": [
    "%%sql\n",
    "select\n",
    "    Country,\n",
    "    (cast(sum(Recovered) as float) / sum(Confirmed)) as Recovery_Ratio\n",
    "from covid\n",
    "where -- this ensures we only take the final cumulative data for each country so no country repeats\n",
    "    date = '2020-07-27 00:00:00'\n",
    "group by\n",
    "    Country\n",
    "order by\n",
    "    Recovery_Ratio desc\n",
    "limit 5;"
   ]
  },
  {
   "cell_type": "code",
   "execution_count": 84,
   "id": "c1a28225",
   "metadata": {},
   "outputs": [
    {
     "name": "stdout",
     "output_type": "stream",
     "text": [
      " * sqlite:///covid.db\n",
      "Done.\n"
     ]
    },
    {
     "data": {
      "text/html": [
       "<table>\n",
       "    <thead>\n",
       "        <tr>\n",
       "            <th>WHO_Region</th>\n",
       "            <th>total_confirmed</th>\n",
       "            <th>total_deaths</th>\n",
       "            <th>total_recovered</th>\n",
       "            <th>total_active</th>\n",
       "        </tr>\n",
       "    </thead>\n",
       "    <tbody>\n",
       "        <tr>\n",
       "            <td>Americas</td>\n",
       "            <td>8839286</td>\n",
       "            <td>342732</td>\n",
       "            <td>4468616</td>\n",
       "            <td>4027938</td>\n",
       "        </tr>\n",
       "        <tr>\n",
       "            <td>Europe</td>\n",
       "            <td>3299523</td>\n",
       "            <td>211144</td>\n",
       "            <td>1993723</td>\n",
       "            <td>1094656</td>\n",
       "        </tr>\n",
       "        <tr>\n",
       "            <td>South-East Asia</td>\n",
       "            <td>1835297</td>\n",
       "            <td>41349</td>\n",
       "            <td>1156933</td>\n",
       "            <td>637015</td>\n",
       "        </tr>\n",
       "        <tr>\n",
       "            <td>Eastern Mediterranean</td>\n",
       "            <td>1490744</td>\n",
       "            <td>38339</td>\n",
       "            <td>1201400</td>\n",
       "            <td>251005</td>\n",
       "        </tr>\n",
       "        <tr>\n",
       "            <td>Africa</td>\n",
       "            <td>723207</td>\n",
       "            <td>12223</td>\n",
       "            <td>440645</td>\n",
       "            <td>270339</td>\n",
       "        </tr>\n",
       "        <tr>\n",
       "            <td>Western Pacific</td>\n",
       "            <td>292428</td>\n",
       "            <td>8249</td>\n",
       "            <td>206770</td>\n",
       "            <td>77409</td>\n",
       "        </tr>\n",
       "    </tbody>\n",
       "</table>"
      ],
      "text/plain": [
       "[('Americas', 8839286, 342732, 4468616, 4027938),\n",
       " ('Europe', 3299523, 211144, 1993723, 1094656),\n",
       " ('South-East Asia', 1835297, 41349, 1156933, 637015),\n",
       " ('Eastern Mediterranean', 1490744, 38339, 1201400, 251005),\n",
       " ('Africa', 723207, 12223, 440645, 270339),\n",
       " ('Western Pacific', 292428, 8249, 206770, 77409)]"
      ]
     },
     "execution_count": 84,
     "metadata": {},
     "output_type": "execute_result"
    }
   ],
   "source": [
    "%%sql\n",
    "select\n",
    "    WHO_Region,\n",
    "    sum(Confirmed) as total_confirmed,\n",
    "    sum(Deaths) as total_deaths,\n",
    "    sum(Recovered) as total_recovered,\n",
    "    sum(Active) as total_active\n",
    "from covid\n",
    "where\n",
    "    date = '2020-07-27 00:00:00'\n",
    "group by\n",
    "    WHO_Region\n",
    "order by\n",
    "    total_confirmed desc,\n",
    "    total_deaths desc;"
   ]
  },
  {
   "cell_type": "code",
   "execution_count": 90,
   "id": "a9950ce0",
   "metadata": {},
   "outputs": [
    {
     "name": "stdout",
     "output_type": "stream",
     "text": [
      " * sqlite:///covid.db\n",
      "Done.\n"
     ]
    },
    {
     "data": {
      "text/html": [
       "<table>\n",
       "    <thead>\n",
       "        <tr>\n",
       "            <th>Country</th>\n",
       "            <th>total_confirmed</th>\n",
       "        </tr>\n",
       "    </thead>\n",
       "    <tbody>\n",
       "        <tr>\n",
       "            <td>Antigua and Barbuda</td>\n",
       "            <td>86</td>\n",
       "        </tr>\n",
       "        <tr>\n",
       "            <td>Belize</td>\n",
       "            <td>48</td>\n",
       "        </tr>\n",
       "        <tr>\n",
       "            <td>Bhutan</td>\n",
       "            <td>99</td>\n",
       "        </tr>\n",
       "        <tr>\n",
       "            <td>Dominica</td>\n",
       "            <td>18</td>\n",
       "        </tr>\n",
       "        <tr>\n",
       "            <td>Fiji</td>\n",
       "            <td>27</td>\n",
       "        </tr>\n",
       "        <tr>\n",
       "            <td>Greenland</td>\n",
       "            <td>14</td>\n",
       "        </tr>\n",
       "        <tr>\n",
       "            <td>Grenada</td>\n",
       "            <td>23</td>\n",
       "        </tr>\n",
       "        <tr>\n",
       "            <td>Holy See</td>\n",
       "            <td>12</td>\n",
       "        </tr>\n",
       "        <tr>\n",
       "            <td>Laos</td>\n",
       "            <td>20</td>\n",
       "        </tr>\n",
       "        <tr>\n",
       "            <td>Liechtenstein</td>\n",
       "            <td>86</td>\n",
       "        </tr>\n",
       "        <tr>\n",
       "            <td>Papua New Guinea</td>\n",
       "            <td>62</td>\n",
       "        </tr>\n",
       "        <tr>\n",
       "            <td>Saint Kitts and Nevis</td>\n",
       "            <td>17</td>\n",
       "        </tr>\n",
       "        <tr>\n",
       "            <td>Saint Lucia</td>\n",
       "            <td>24</td>\n",
       "        </tr>\n",
       "        <tr>\n",
       "            <td>Saint Vincent and the Grenadines</td>\n",
       "            <td>52</td>\n",
       "        </tr>\n",
       "        <tr>\n",
       "            <td>Timor-Leste</td>\n",
       "            <td>24</td>\n",
       "        </tr>\n",
       "        <tr>\n",
       "            <td>Western Sahara</td>\n",
       "            <td>10</td>\n",
       "        </tr>\n",
       "    </tbody>\n",
       "</table>"
      ],
      "text/plain": [
       "[('Antigua and Barbuda', 86),\n",
       " ('Belize', 48),\n",
       " ('Bhutan', 99),\n",
       " ('Dominica', 18),\n",
       " ('Fiji', 27),\n",
       " ('Greenland', 14),\n",
       " ('Grenada', 23),\n",
       " ('Holy See', 12),\n",
       " ('Laos', 20),\n",
       " ('Liechtenstein', 86),\n",
       " ('Papua New Guinea', 62),\n",
       " ('Saint Kitts and Nevis', 17),\n",
       " ('Saint Lucia', 24),\n",
       " ('Saint Vincent and the Grenadines', 52),\n",
       " ('Timor-Leste', 24),\n",
       " ('Western Sahara', 10)]"
      ]
     },
     "execution_count": 90,
     "metadata": {},
     "output_type": "execute_result"
    }
   ],
   "source": [
    "%%sql\n",
    "select\n",
    "    Country,\n",
    "    sum(confirmed) as total_confirmed\n",
    "from covid\n",
    "where\n",
    "    date = '2020-07-27 00:00:00'\n",
    "group by\n",
    "    Country\n",
    "having total_confirmed < 100"
   ]
  },
  {
   "cell_type": "markdown",
   "id": "ff5b1bfb",
   "metadata": {},
   "source": [
    "Based on this data, the US, Brazil, Russia, and India all seem to have highest case and death counts\\\n",
    "The Americas and Europe seem to have been hit the hardest\\\n",
    "Countries have as few as 10 total cases, but none have 0 all the way through the data set\\\n",
    "However, this data set has many possible confounding factors:\n",
    "* Some countries may have reason to misreport data to make their numbers look better\n",
    "* Poorer countries may not have good enough technology to track covid cases accurately\n",
    "* Some countries may have not interest in keeping data on such matters\\\n",
    "However, many of these factors are out of my control now that the data has been collected, so let's\\\n",
    "move forward with this analysis!"
   ]
  },
  {
   "cell_type": "markdown",
   "id": "2f3de38b",
   "metadata": {},
   "source": [
    "Great, everything looks good to go so I'll work on answering a few interseting questions"
   ]
  },
  {
   "cell_type": "markdown",
   "id": "ec9c467f",
   "metadata": {},
   "source": [
    "### Question 1: How do countries compare in terms of total cases?"
   ]
  },
  {
   "cell_type": "code",
   "execution_count": 19,
   "id": "2c71d2f4",
   "metadata": {},
   "outputs": [],
   "source": [
    "# I'll import matplotlib and seaborn here to aid in my analysis by providing an \n",
    "# easy way to generate visualizations\n",
    "import matplotlib.pyplot as plt\n",
    "import seaborn as sns"
   ]
  },
  {
   "cell_type": "markdown",
   "id": "963ca275",
   "metadata": {},
   "source": [
    "##### First I'll look at the 20 countries with the most cases:"
   ]
  },
  {
   "cell_type": "code",
   "execution_count": null,
   "id": "a51cb133",
   "metadata": {},
   "outputs": [
    {
     "data": {
      "image/png": "[encoded data removed]",
      "text/plain": [
       "<Figure size 1000x800 with 1 Axes>"
      ]
     },
     "metadata": {},
     "output_type": "display_data"
    }
   ],
   "source": [
    "#First convert a SQL query into a pd data frame\n",
    "conn = sqlite3.connect(\"covid.db\")\n",
    "query = \"\"\"\n",
    "select\n",
    "    Country,\n",
    "    sum(Confirmed) as total_confirmed\n",
    "from covid\n",
    "where\n",
    "    date = '2020-07-27 00:00:00'\n",
    "group by\n",
    "    Country\n",
    "order by\n",
    "    total_confirmed desc\n",
    "limit 20\n",
    "\"\"\"\n",
    "df = pd.read_sql(query, conn)\n",
    "conn.close()\n",
    "\n",
    "# Now graph the data\n",
    "sns.set_theme(style=\"whitegrid\")\n",
    "\n",
    "plt.figure(figsize=(10, 8))\n",
    "sns.barplot(\n",
    "    data=df,\n",
    "    y=\"Country\",               \n",
    "    x=\"total_confirmed\",\n",
    "    hue=\"Country\",\n",
    "    dodge=False,\n",
    "    legend=False,\n",
    "    palette=\"viridis\"\n",
    ")\n",
    "\n",
    "plt.xlabel(\"Total Confirmed Cases (by 7/27)\", fontsize=12)\n",
    "plt.ylabel(\"Country\", fontsize=12)\n",
    "plt.title(\"COVID-19 Confirmed Cases by Country (2020-07-27)\", fontsize=16, weight=\"bold\")\n",
    "\n",
    "plt.tight_layout()\n",
    "plt.show()"
   ]
  },
  {
   "cell_type": "markdown",
   "id": "dcc74eb7",
   "metadata": {},
   "source": [
    "It seems like the USs tracked many more confirmed cases than any other country, with a sharp dropoff\\\n",
    "between US, Brazil, India, Russia, and the rest of the countries"
   ]
  },
  {
   "cell_type": "markdown",
   "id": "dae72e18",
   "metadata": {},
   "source": [
    "##### Now for the 20 countries with the fewest cases:"
   ]
  },
  {
   "cell_type": "code",
   "execution_count": null,
   "id": "7efe9882",
   "metadata": {},
   "outputs": [
    {
     "name": "stderr",
     "output_type": "stream",
     "text": [
      "C:\\Users\\willr\\AppData\\Local\\Temp\\ipykernel_43632\\3174197347.py:23: FutureWarning: \n",
      "\n",
      "Passing `palette` without assigning `hue` is deprecated and will be removed in v0.14.0. Assign the `y` variable to `hue` and set `legend=False` for the same effect.\n",
      "\n",
      "  sns.barplot(\n"
     ]
    },
    {
     "data": {
      "image/png": "[encoded data removed]",
      "text/plain": [
       "<Figure size 1000x800 with 1 Axes>"
      ]
     },
     "metadata": {},
     "output_type": "display_data"
    }
   ],
   "source": [
    "#First convert a SQL query into a pd data frame\n",
    "conn = sqlite3.connect(\"covid.db\")\n",
    "query = \"\"\"\n",
    "select\n",
    "    Country,\n",
    "    sum(Confirmed) as total_confirmed\n",
    "from covid\n",
    "where\n",
    "    date = '2020-07-27 00:00:00'\n",
    "group by\n",
    "    Country\n",
    "order by\n",
    "    total_confirmed asc\n",
    "limit 20\n",
    "\"\"\"\n",
    "df = pd.read_sql(query, conn)\n",
    "conn.close()\n",
    "\n",
    "# Now graph the data\n",
    "sns.set_theme(style=\"whitegrid\")\n",
    "\n",
    "plt.figure(figsize=(10, 8))\n",
    "sns.barplot(\n",
    "    data=df,\n",
    "    y=\"Country\",               \n",
    "    x=\"total_confirmed\",\n",
    "    hue=\"Country\",\n",
    "    dodge=False,\n",
    "    legend=False,\n",
    "    palette=\"viridis\"\n",
    ")\n",
    "\n",
    "plt.xlabel(\"Total Confirmed Cases (by 7/27)\", fontsize=12)\n",
    "plt.ylabel(\"Country\", fontsize=12)\n",
    "plt.title(\"COVID-19 Confirmed Cases by Country (2020-07-27)\", fontsize=16, weight=\"bold\")\n",
    "\n",
    "plt.tight_layout()\n",
    "plt.show()"
   ]
  },
  {
   "cell_type": "markdown",
   "id": "c2ef1fa1",
   "metadata": {},
   "source": [
    "It is interesting to see which countries have the fewest reported cases. For me, it is not surprising\\\n",
    "that isolated countries like Greenland or Fiji have such low numbers.\\\n",
    "Similarly, I am not surprised to see a small place like Holy See having a very small number of cases\\\n",
    "since their population is not very large to start with."
   ]
  }
 ],
 "metadata": {
  "kernelspec": {
   "display_name": "Python 3",
   "language": "python",
   "name": "python3"
  },
  "language_info": {
   "codemirror_mode": {
    "name": "ipython",
    "version": 3
   },
   "file_extension": ".py",
   "mimetype": "text/x-python",
   "name": "python",
   "nbconvert_exporter": "python",
   "pygments_lexer": "ipython3",
   "version": "3.12.4"
  }
 },
 "nbformat": 4,
 "nbformat_minor": 5
}
